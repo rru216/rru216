{
  "nbformat": 4,
  "nbformat_minor": 0,
  "metadata": {
    "colab": {
      "provenance": [],
      "gpuType": "T4",
      "authorship_tag": "ABX9TyNVVuVe9g42wp7guT4RJfPw",
      "include_colab_link": true
    },
    "kernelspec": {
      "name": "python3",
      "display_name": "Python 3"
    },
    "language_info": {
      "name": "python"
    },
    "accelerator": "GPU"
  },
  "cells": [
    {
      "cell_type": "markdown",
      "metadata": {
        "id": "view-in-github",
        "colab_type": "text"
      },
      "source": [
        "<a href=\"https://colab.research.google.com/github/rru216/rru216/blob/main/%E8%AA%9E%E9%9F%B3%E8%BD%89%E6%96%87%E5%AD%97.ipynb\" target=\"_parent\"><img src=\"https://colab.research.google.com/assets/colab-badge.svg\" alt=\"Open In Colab\"/></a>"
      ]
    },
    {
      "cell_type": "code",
      "execution_count": null,
      "metadata": {
        "id": "nMNGI2SfUWKE"
      },
      "outputs": [],
      "source": [
        "# 安裝whisper語音辨識工具\n",
        "!pip install -U openai-whisper\n",
        "\n",
        "# 檢查是否開啟GPU\n",
        "!nvidia-smi"
      ]
    },
    {
      "cell_type": "code",
      "source": [
        "from google.colab import files\n",
        "\n",
        "uploaded = files.upload()\n",
        "\n",
        "\n",
        "todo = []\n",
        "for fn in uploaded.keys():\n",
        "  print('{name} with length {length} bytes'.format(name=fn, length=len(uploaded[fn])))\n",
        "  todo.append(fn)\n",
        "\n",
        "todo"
      ],
      "metadata": {
        "id": "Yr_HozSjUwx-"
      },
      "execution_count": null,
      "outputs": []
    },
    {
      "cell_type": "code",
      "source": [
        "import whisper\n",
        "\n",
        "model = whisper.load_model('large')"
      ],
      "metadata": {
        "id": "xNCcoEMGX2bJ"
      },
      "execution_count": null,
      "outputs": []
    },
    {
      "cell_type": "code",
      "source": [
        "import os\n",
        "from whisper.utils import get_writer\n",
        "\n",
        "# 輸出格式為srt\n",
        "# 輸出路徑為目前位置\n",
        "w = get_writer('srt', '.')\n",
        "\n",
        "for f in todo:\n",
        "  name = os.path.basename(f)\n",
        "\n",
        "  result = model.transcribe(name)\n",
        "\n",
        "  srt_file_name = '{name}.srt'.format(name=name)\n",
        "  w(result, srt_file_name)\n",
        "\n",
        "  files.download(srt_file_name)"
      ],
      "metadata": {
        "id": "_ojzHwFnX9pY"
      },
      "execution_count": null,
      "outputs": []
    }
  ]
}